{
 "cells": [
  {
   "cell_type": "code",
   "execution_count": null,
   "metadata": {
    "colab": {
     "base_uri": "https://localhost:8080/"
    },
    "executionInfo": {
     "elapsed": 4866,
     "status": "ok",
     "timestamp": 1741537419461,
     "user": {
      "displayName": "Zihan Xu",
      "userId": "10132644876120814222"
     },
     "user_tz": 0
    },
    "id": "3S0Ch23NxU84",
    "outputId": "9f5e4e8d-8cd8-4093-f5fb-e8711bbefcd8"
   },
   "outputs": [
    {
     "name": "stdout",
     "output_type": "stream",
     "text": [
      "Requirement already satisfied: nibabel in /usr/local/lib/python3.11/dist-packages (5.3.2)\n",
      "Requirement already satisfied: importlib-resources>=5.12 in /usr/local/lib/python3.11/dist-packages (from nibabel) (6.5.2)\n",
      "Requirement already satisfied: numpy>=1.22 in /usr/local/lib/python3.11/dist-packages (from nibabel) (1.26.4)\n",
      "Requirement already satisfied: packaging>=20 in /usr/local/lib/python3.11/dist-packages (from nibabel) (24.2)\n",
      "Requirement already satisfied: typing-extensions>=4.6 in /usr/local/lib/python3.11/dist-packages (from nibabel) (4.12.2)\n",
      "Drive already mounted at /content/drive; to attempt to forcibly remount, call drive.mount(\"/content/drive\", force_remount=True).\n"
     ]
    }
   ],
   "source": [
    "import os\n",
    "import numpy as np\n",
    "import pandas as pd\n",
    "!pip install nibabel\n",
    "import nibabel as nib\n",
    "import matplotlib.pyplot as plt\n",
    "from pathlib import Path\n",
    "from google.colab import drive\n",
    "from tqdm import tqdm\n",
    "drive.mount('/content/drive')\n",
    "data_dir = Path('drive/MyDrive/A2_coursework/Module3')\n",
    "#Change the directory of the dataset to run the code below\n"
   ]
  },
  {
   "cell_type": "markdown",
   "metadata": {
    "id": "YjgNY9v5uuug"
   },
   "source": [
    "Exercise 3.1.1\n"
   ]
  },
  {
   "cell_type": "code",
   "execution_count": null,
   "metadata": {
    "id": "FJ7wf-VBvIf6"
   },
   "outputs": [],
   "source": [
    "def load_patient_data(patient_id, data_dir):\n",
    "    '''\n",
    "    Load the scan and mask data for a patient\n",
    "\n",
    "    Parameters:\n",
    "    patient_id (str): The patient ID\n",
    "    data_dir (str): The directory containing the data\n",
    "\n",
    "    Returns:\n",
    "    - scan_array (np.array): The scan data\n",
    "    - mask_array (np.array): The mask data\n",
    "    '''\n",
    "    scan_file = f\"{patient_id}.nii\"\n",
    "    mask_file = f\"{patient_id}_mask.nii\"\n",
    "\n",
    "    scan_nii = nib.load(data_dir / scan_file)\n",
    "    mask_nii = nib.load(data_dir / mask_file)\n",
    "\n",
    "    scan_array = np.array(scan_nii.get_fdata())\n",
    "    mask_array = np.array(mask_nii.get_fdata())\n",
    "\n",
    "    return scan_array, mask_array\n",
    "\n"
   ]
  },
  {
   "cell_type": "code",
   "execution_count": null,
   "metadata": {
    "id": "-JCI886SvL_4"
   },
   "outputs": [],
   "source": [
    "def create_subvolume(scan, mask):\n",
    "    '''\n",
    "    Create a subvolume containing the mask and surrounding tissue'\n",
    "\n",
    "    Parameters:\n",
    "    - scan (np.array): The scan data\n",
    "    - mask (np.array): The mask data\n",
    "\n",
    "    Returns:\n",
    "    - subvolume (np.array): The subvolume containing the mask and surrounding tissue\n",
    "    - mask_subvolume (np.array): The mask subvolume\n",
    "    '''\n",
    "    # Get the center of the mask\n",
    "    z_indices, y_indices, x_indices = np.where(mask > 0)\n",
    "\n",
    "    x_min, x_max = np.min(x_indices), np.max(x_indices)\n",
    "    y_min, y_max = np.min(y_indices), np.max(y_indices)\n",
    "    z_min, z_max = np.min(z_indices), np.max(z_indices)\n",
    "\n",
    "    # Extend the range by 30 voxels in x and y directions, 5 in z direction\n",
    "    x_min_extended = max(0, x_min - 30)\n",
    "    x_max_extended = min(scan.shape[0] - 1, x_max + 30)\n",
    "    y_min_extended = max(0, y_min - 30)\n",
    "    y_max_extended = min(scan.shape[1] - 1, y_max + 30)\n",
    "    z_min_extended = max(0, z_min - 5)\n",
    "    z_max_extended = min(scan.shape[2] - 1, z_max + 5)\n",
    "\n",
    "    subvolume = scan[z_min_extended:z_max_extended+1,\n",
    "                     y_min_extended:y_max_extended+1,\n",
    "                     x_min_extended:x_max_extended+1]\n",
    "\n",
    "    mask_subvolume = mask[z_min_extended:z_max_extended+1,\n",
    "                          y_min_extended:y_max_extended+1,\n",
    "                          x_min_extended:x_max_extended+1]\n",
    "\n",
    "    return subvolume, mask_subvolume"
   ]
  },
  {
   "cell_type": "code",
   "execution_count": null,
   "metadata": {
    "id": "BWuvXnIYlJK9"
   },
   "outputs": [],
   "source": [
    "\n",
    "patient_ids = []\n",
    "for file in os.listdir(data_dir):\n",
    "    if file.endswith('.nii') and not file.endswith('_mask.nii'):\n",
    "        patient_id = file.split('.')[0]\n",
    "        patient_ids.append(patient_id)"
   ]
  },
  {
   "cell_type": "code",
   "execution_count": null,
   "metadata": {
    "colab": {
     "base_uri": "https://localhost:8080/"
    },
    "id": "Z7eQmWGhvPgE",
    "outputId": "c9aac539-7044-47c0-de48-220954630d55"
   },
   "outputs": [
    {
     "name": "stderr",
     "output_type": "stream",
     "text": [
      "\r0it [00:00, ?it/s]"
     ]
    },
    {
     "name": "stdout",
     "output_type": "stream",
     "text": [
      "patient id = case_0\n"
     ]
    },
    {
     "name": "stderr",
     "output_type": "stream",
     "text": [
      "\r1it [00:04,  4.29s/it]"
     ]
    },
    {
     "name": "stdout",
     "output_type": "stream",
     "text": [
      "patient id = case_1\n"
     ]
    },
    {
     "name": "stderr",
     "output_type": "stream",
     "text": [
      "\r2it [00:06,  2.95s/it]"
     ]
    },
    {
     "name": "stdout",
     "output_type": "stream",
     "text": [
      "patient id = case_10\n"
     ]
    },
    {
     "name": "stderr",
     "output_type": "stream",
     "text": [
      "\r3it [00:07,  2.18s/it]"
     ]
    },
    {
     "name": "stdout",
     "output_type": "stream",
     "text": [
      "patient id = case_11\n"
     ]
    },
    {
     "name": "stderr",
     "output_type": "stream",
     "text": [
      "\r4it [00:08,  1.86s/it]"
     ]
    },
    {
     "name": "stdout",
     "output_type": "stream",
     "text": [
      "patient id = case_12\n"
     ]
    },
    {
     "name": "stderr",
     "output_type": "stream",
     "text": [
      "\r5it [00:12,  2.42s/it]"
     ]
    },
    {
     "name": "stdout",
     "output_type": "stream",
     "text": [
      "patient id = case_13\n"
     ]
    },
    {
     "name": "stderr",
     "output_type": "stream",
     "text": [
      "\r6it [00:14,  2.34s/it]"
     ]
    },
    {
     "name": "stdout",
     "output_type": "stream",
     "text": [
      "patient id = case_14\n"
     ]
    },
    {
     "name": "stderr",
     "output_type": "stream",
     "text": [
      "\r7it [00:16,  2.31s/it]"
     ]
    },
    {
     "name": "stdout",
     "output_type": "stream",
     "text": [
      "patient id = case_15\n"
     ]
    },
    {
     "name": "stderr",
     "output_type": "stream",
     "text": [
      "\r8it [00:18,  2.07s/it]"
     ]
    },
    {
     "name": "stdout",
     "output_type": "stream",
     "text": [
      "patient id = case_16\n"
     ]
    },
    {
     "name": "stderr",
     "output_type": "stream",
     "text": [
      "\r9it [00:21,  2.26s/it]"
     ]
    },
    {
     "name": "stdout",
     "output_type": "stream",
     "text": [
      "patient id = case_17\n"
     ]
    },
    {
     "name": "stderr",
     "output_type": "stream",
     "text": [
      "\r10it [00:22,  2.10s/it]"
     ]
    },
    {
     "name": "stdout",
     "output_type": "stream",
     "text": [
      "patient id = case_18\n"
     ]
    },
    {
     "name": "stderr",
     "output_type": "stream",
     "text": [
      "\r11it [00:24,  2.13s/it]"
     ]
    },
    {
     "name": "stdout",
     "output_type": "stream",
     "text": [
      "patient id = case_19\n"
     ]
    },
    {
     "name": "stderr",
     "output_type": "stream",
     "text": [
      "\r12it [00:27,  2.33s/it]"
     ]
    },
    {
     "name": "stdout",
     "output_type": "stream",
     "text": [
      "patient id = case_2\n"
     ]
    },
    {
     "name": "stderr",
     "output_type": "stream",
     "text": [
      "\r13it [00:32,  3.10s/it]"
     ]
    },
    {
     "name": "stdout",
     "output_type": "stream",
     "text": [
      "patient id = case_20\n"
     ]
    },
    {
     "name": "stderr",
     "output_type": "stream",
     "text": [
      "\r14it [00:34,  2.76s/it]"
     ]
    },
    {
     "name": "stdout",
     "output_type": "stream",
     "text": [
      "patient id = case_21\n"
     ]
    },
    {
     "name": "stderr",
     "output_type": "stream",
     "text": [
      "\r15it [00:36,  2.49s/it]"
     ]
    },
    {
     "name": "stdout",
     "output_type": "stream",
     "text": [
      "patient id = case_22\n"
     ]
    },
    {
     "name": "stderr",
     "output_type": "stream",
     "text": [
      "\r16it [00:42,  3.69s/it]"
     ]
    },
    {
     "name": "stdout",
     "output_type": "stream",
     "text": [
      "patient id = case_23\n"
     ]
    },
    {
     "name": "stderr",
     "output_type": "stream",
     "text": [
      "\r17it [00:45,  3.36s/it]"
     ]
    },
    {
     "name": "stdout",
     "output_type": "stream",
     "text": [
      "patient id = case_24\n"
     ]
    }
   ],
   "source": [
    "\n",
    "\n",
    "patient_scans = []\n",
    "segmentation_masks = []\n",
    "\n",
    "subvolume_scans= []\n",
    "subvolume_masks = []\n",
    "\n",
    "\n",
    "# Get the NIfTI files\n",
    "scan_files = sorted([f for f in os.listdir(data_dir) if f.endswith('.nii') and not f.endswith('_mask.nii')])\n",
    "mask_files = sorted([f for f in os.listdir(data_dir) if f.endswith('_mask.nii')])\n",
    "\n",
    "for scan_file, mask_file in tqdm(zip(scan_files, mask_files)):\n",
    "\n",
    "    # patient data\n",
    "    scans, mask = load_patient_data(patient_id, data_dir)\n",
    "    patient_scans.append(scans)\n",
    "    segmentation_masks.append(mask)\n",
    "\n",
    "    # subvolume data\n",
    "    subvolume_scan, subvolume_mask = create_subvolume(scans, mask)\n",
    "    subvolume_scans.append(subvolume_scan)\n",
    "    subvolume_masks.append(subvolume_mask)\n",
    "\n",
    "\n",
    "patient_ids = sorted(patient_ids)\n",
    "\n",
    "case_0 = load_patient_data(patient_ids[0], data_dir)\n",
    "print(case_0[0].shape, case_0[1].shape)"
   ]
  },
  {
   "cell_type": "markdown",
   "metadata": {
    "id": "yDBzlOdnuySG"
   },
   "source": [
    "Exercise 3.1.2"
   ]
  },
  {
   "cell_type": "code",
   "execution_count": null,
   "metadata": {
    "id": "0gMEYG2i3oIl"
   },
   "outputs": [],
   "source": [
    "def find_intensity_range(scan, mask):\n",
    "    '''\n",
    "    Find the intensity range of the scan within the mask\n",
    "\n",
    "    Parameters:\n",
    "    - scan (np.array): The scan data\n",
    "    - mask (np.array): The mask data\n",
    "\n",
    "    Returns:\n",
    "    - min_intensity (float): The minimum intensity within the mask\n",
    "    - max_intensity (float): The maximum intensity within the mask\n",
    "    '''\n",
    "    intensities = scan[mask > 0]\n",
    "    if len(intensities) == 0:\n",
    "        return 0, 0\n",
    "    min_intensity = np.min(intensities)\n",
    "    max_intensity = np.max(intensities)\n",
    "\n",
    "    return min_intensity, max_intensity\n",
    "\n"
   ]
  },
  {
   "cell_type": "code",
   "execution_count": null,
   "metadata": {
    "id": "ex7efh4U3vyr"
   },
   "outputs": [],
   "source": [
    "def apply_thresholding(subvolume_scan, subvolume_mask):\n",
    "    ''' \n",
    "    Apply thresholding to the subvolume scan data based on the intensity range of the mask\n",
    "\n",
    "    Parameters:\n",
    "    - subvolume_scan (np.array): The subvolume scan data\n",
    "    - subvolume_mask (np.array): The subvolume mask data\n",
    "\n",
    "    Returns:\n",
    "    - threshold_mask (np.array): The thresholded mask\n",
    "    - threshold (tuple): The intensity range used for threshold\n",
    "    '''\n",
    "\n",
    "        # Find intensity range of voxels inside the segmentation\n",
    "    min_intensity, max_intensity = find_intensity_range(subvolume_scan, subvolume_mask)\n",
    "\n",
    "        # Create a thresholded mask based on the intensity range\n",
    "    threshold_mask = np.zeros_like(subvolume_scan)\n",
    "    threshold_mask[(subvolume_scan >= min_intensity) & (subvolume_scan <= max_intensity)] = 1\n",
    "\n",
    "    threshold = (min_intensity, max_intensity)\n",
    "\n",
    "    return threshold_mask, threshold"
   ]
  },
  {
   "cell_type": "code",
   "execution_count": null,
   "metadata": {
    "colab": {
     "base_uri": "https://localhost:8080/"
    },
    "executionInfo": {
     "elapsed": 340360,
     "status": "ok",
     "timestamp": 1741535536440,
     "user": {
      "displayName": "Zihan Xu",
      "userId": "10132644876120814222"
     },
     "user_tz": 0
    },
    "id": "A279Qrh8wYKY",
    "outputId": "df460c29-c537-4fc9-b8ed-7cb45cb7cf23"
   },
   "outputs": [
    {
     "name": "stdout",
     "output_type": "stream",
     "text": [
      "case_11\n",
      "Dice score: 0.0\n",
      "case_1\n",
      "Dice score: 0.031083099715566106\n",
      "case_0\n",
      "Dice score: 0.009137328675087342\n",
      "case_10\n",
      "Dice score: 0.0\n",
      "case_12\n",
      "Dice score: 0.0148989898989899\n",
      "case_14\n",
      "Dice score: 0.0\n",
      "case_13\n",
      "Dice score: 0.0\n",
      "case_15\n",
      "Dice score: 0.00350824003291682\n",
      "case_16\n",
      "Dice score: 0.0\n",
      "case_18\n",
      "Dice score: 0.0\n",
      "case_19\n",
      "Dice score: 0.0\n",
      "case_17\n",
      "Dice score: 0.0\n",
      "case_24\n",
      "Dice score: 0.0\n",
      "case_2\n",
      "Dice score: 0.0\n",
      "case_28\n",
      "Dice score: 0.026455026455026454\n",
      "case_25\n",
      "Dice score: 0.0\n",
      "case_26\n",
      "Dice score: 0.0\n",
      "case_23\n",
      "Dice score: 0.0\n",
      "case_20\n",
      "Dice score: 0.0\n",
      "case_22\n",
      "Dice score: 0.017733611912970935\n",
      "case_21\n",
      "Dice score: 0.0\n",
      "case_27\n",
      "Dice score: 0.013202034411860188\n",
      "case_29\n",
      "Dice score: 0.0\n",
      "case_30\n",
      "Dice score: 0.0\n",
      "case_32\n",
      "Dice score: 0.05903738915397033\n",
      "case_3\n",
      "Dice score: 0.0\n",
      "case_31\n",
      "Dice score: 0.0\n",
      "case_33\n",
      "Dice score: 0.11870639584836924\n",
      "case_35\n",
      "Dice score: 0.005161326714801444\n",
      "case_34\n",
      "Dice score: 0.009564355280807138\n",
      "case_37\n",
      "Dice score: 0.047911743319396474\n",
      "case_36\n",
      "Dice score: 0.0\n",
      "case_39\n",
      "Dice score: 0.07266444681786768\n",
      "case_38\n",
      "Dice score: 0.026965825388301806\n",
      "case_5\n",
      "Dice score: 0.0\n",
      "case_4\n",
      "Dice score: 0.02745539302362964\n",
      "case_6\n",
      "Dice score: 0.0\n",
      "case_7\n",
      "Dice score: 0.0\n",
      "case_8\n",
      "Dice score: 0.0\n",
      "case_9\n",
      "Dice score: 0.0\n"
     ]
    }
   ],
   "source": [
    "dice_scores = {}\n",
    "\n",
    "for patient_id in patient_ids:\n",
    "  print(patient_id)\n",
    "  scans, mask = load_patient_data(patient_id, data_dir)\n",
    "  subvolume_scan, subvolume_mask = create_subvolume(scans, mask)\n",
    "  threshold_mask, thresholds = apply_thresholding(subvolume_scan, subvolume_mask)\n",
    "  intersection = np.sum(threshold_mask * subvolume_mask)\n",
    "  dice_score = (2.0 * intersection) / (np.sum(threshold_mask) + np.sum(mask))\n",
    "  dice_scores[patient_id] = dice_score\n",
    "  print(f\"Dice score: {dice_score}\")\n",
    "\n"
   ]
  },
  {
   "cell_type": "code",
   "execution_count": null,
   "metadata": {
    "id": "rnrgiE7FCPeF"
   },
   "outputs": [],
   "source": [
    "patient_id = \"case_0\"\n",
    "#patient_id = \"case_3\"\n",
    "\n",
    "\n",
    "scans, mask = load_patient_data(patient_id, data_dir)\n",
    "subvolume_scan, subvolume_mask = create_subvolume(scans, mask)\n",
    "threshold_masks, thresholds = apply_thresholding(subvolume_scan, subvolume_mask)\n",
    "slice_idx = subvolume_scan.shape[2] // 2  # Middle slice\n",
    "scan_slice = subvolume_scan[:,:,slice_idx]\n",
    "mask_slice = subvolume_mask[:,:,slice_idx]\n",
    "threshold_masks_slice = threshold_masks[:,:,slice_idx]"
   ]
  },
  {
   "cell_type": "code",
   "execution_count": null,
   "metadata": {
    "colab": {
     "base_uri": "https://localhost:8080/",
     "height": 160
    },
    "executionInfo": {
     "elapsed": 685,
     "status": "ok",
     "timestamp": 1741535744838,
     "user": {
      "displayName": "Zihan Xu",
      "userId": "10132644876120814222"
     },
     "user_tz": 0
    },
    "id": "WDr289qjNmQd",
    "outputId": "6791b2ee-e2de-4976-d6cc-065720dfec94"
   },
   "outputs": [
    {
     "data": {
      "image/png": "[encoded data removed]",
      "text/plain": [
       "<Figure size 1500x1200 with 3 Axes>"
      ]
     },
     "metadata": {},
     "output_type": "display_data"
    }
   ],
   "source": [
    "fig, axes = plt.subplots(1, 3, figsize=(15, 12))\n",
    "#Original scan\n",
    "axes[0].imshow(scan_slice, cmap='gray')\n",
    "axes[0].set_title('Original Scan')\n",
    "axes[0].axis('off')\n",
    "\n",
    "# ground truth mask\n",
    "axes[1].imshow(scan_slice, cmap='gray')\n",
    "axes[1].imshow(mask_slice, cmap='viridis', alpha=0.5)\n",
    "axes[1].set_title('Ground Truth Mask')\n",
    "axes[1].axis('off')\n",
    "\n",
    "axes[2].imshow(scan_slice, cmap='gray')\n",
    "axes[2].imshow(threshold_masks_slice, cmap='viridis', alpha=0.5)\n",
    "axes[2].set_title('Threshold Mask')\n",
    "axes[2].axis('off')\n",
    "\n",
    "fig.tight_layout()\n",
    "plt.savefig('drive/MyDrive/A2_coursework/threshold_mask.png')\n",
    "plt.show()"
   ]
  },
  {
   "cell_type": "markdown",
   "metadata": {
    "id": "UD5m1-7uTXm8"
   },
   "source": [
    "Exercise 3.2"
   ]
  },
  {
   "cell_type": "markdown",
   "metadata": {
    "id": "xGbciTd0iafI"
   },
   "source": [
    "Label 1: healthy\n",
    "\n",
    "Label 2: lung tumor\n",
    "\n",
    "Label 3: metastatic tumor"
   ]
  },
  {
   "cell_type": "code",
   "execution_count": null,
   "metadata": {
    "id": "7frqf2uRTYwm"
   },
   "outputs": [],
   "source": [
    "def energy(voxel_values):\n",
    "    '''\n",
    "    Calculate the energy of the voxel values\n",
    "    \n",
    "    Parameters:\n",
    "    - voxel_values (np.array): The voxel values\n",
    "    \n",
    "    Returns:\n",
    "    - energy (float): The energy of the voxel values\n",
    "    '''\n",
    "    return np.sum(voxel_values**2)\n",
    "\n",
    "def mad(voxel_values):\n",
    "  '''\n",
    "  Calculate the mean absolute deviation of the voxel values\n",
    "\n",
    "  Parameters:\n",
    "  - voxel_values (np.array): The voxel values\n",
    "\n",
    "  Returns:\n",
    "  - mad_value (float): The mean absolute deviation of the voxel\n",
    "  '''\n",
    "  \n",
    "  mean_value = np.mean(voxel_values)\n",
    "  mad_value = np.mean(np.abs(voxel_values - mean_value))\n",
    "  return mad_value\n",
    "\n",
    "def uniformity(voxel_values,num_bins):\n",
    "    '''\n",
    "    Calculate the uniformity of the voxel values\n",
    "\n",
    "    Parameters:\n",
    "    - voxel_values (np.array): The voxel values\n",
    "    - num_bins (int): The number of bins to use for the histogram\n",
    "\n",
    "    Returns:\n",
    "    - uniformity (float): The uniformity of the voxel values\n",
    "    '''\n",
    "    hist, _ = np.histogram(voxel_values, bins=num_bins, density=False)\n",
    "\n",
    "    # Normalize histogram\n",
    "    p = hist / len(voxel_values)\n",
    "\n",
    "    # Calculate uniformity\n",
    "    return np.sum(p**2)"
   ]
  },
  {
   "cell_type": "code",
   "execution_count": null,
   "metadata": {
    "id": "dwguK5GyypTw"
   },
   "outputs": [],
   "source": [
    "def normalize_intensity(voxel_data):\n",
    "    '''\n",
    "    Normalize the intensity values of the voxel data\n",
    "    \n",
    "    Parameters:\n",
    "    - voxel_data (np.array): The voxel data\n",
    "    \n",
    "    Returns:\n",
    "    - normalized_data (np.array): The normalized voxel data\n",
    "    '''\n",
    "    min_val = np.min(voxel_data)\n",
    "    max_val = np.max(voxel_data)\n",
    "    return (voxel_data - min_val) / (max_val - min_val)"
   ]
  },
  {
   "cell_type": "markdown",
   "metadata": {
    "id": "T3RU2pMYpYPP"
   },
   "source": [
    "Determine bins with Scott's rule:"
   ]
  },
  {
   "cell_type": "code",
   "execution_count": null,
   "metadata": {
    "id": "nkatyX4ntCrr"
   },
   "outputs": [],
   "source": [
    "labels_df = pd.read_csv(os.path.join(data_dir, 'labels.csv'))"
   ]
  },
  {
   "cell_type": "code",
   "execution_count": null,
   "metadata": {
    "id": "nyTcBlioomCv"
   },
   "outputs": [],
   "source": [
    "intensity_ranges = []\n",
    "bins_count = []\n",
    "for patient_id in patient_ids:\n",
    "  patient_num = patient_id.split('_')[1]\n",
    "  diagnosis = labels_df.loc[labels_df['ID'] == int(patient_num), 'Diagnosis'].values\n",
    "\n",
    "  if diagnosis != 1:\n",
    "    scan, mask = load_patient_data(patient_id, data_dir)\n",
    "    voxel_values = scan[mask > 0]\n",
    "    intensities = normalize_intensity(voxel_values)\n",
    "\n",
    "    min_int = np.min(intensities)\n",
    "    max_int = np.max(intensities)\n",
    "    intensity_ranges.append((min_int,max_int))\n",
    "\n",
    "    bins = int(np.ceil((max_int - min_int) / (3.5 * np.std(intensities) / len(intensities)**(1/3))))\n",
    "    bins_count.append(bins)\n",
    "\n"
   ]
  },
  {
   "cell_type": "code",
   "execution_count": null,
   "metadata": {
    "colab": {
     "base_uri": "https://localhost:8080/"
    },
    "executionInfo": {
     "elapsed": 9,
     "status": "ok",
     "timestamp": 1741539041035,
     "user": {
      "displayName": "Zihan Xu",
      "userId": "10132644876120814222"
     },
     "user_tz": 0
    },
    "id": "O-pcTqT5u4am",
    "outputId": "c6f91945-5649-46a0-80c7-8599efbc7af1"
   },
   "outputs": [
    {
     "name": "stdout",
     "output_type": "stream",
     "text": [
      "28\n"
     ]
    }
   ],
   "source": [
    "bins_number = int(np.mean(bins_count))\n",
    "print(bins_number)"
   ]
  },
  {
   "cell_type": "code",
   "execution_count": null,
   "metadata": {
    "colab": {
     "base_uri": "https://localhost:8080/"
    },
    "executionInfo": {
     "elapsed": 96936,
     "status": "ok",
     "timestamp": 1741539139159,
     "user": {
      "displayName": "Zihan Xu",
      "userId": "10132644876120814222"
     },
     "user_tz": 0
    },
    "id": "izkhOiwvjd3T",
    "outputId": "292074dc-632c-4e5a-ad66-c8c6ae63e5d1"
   },
   "outputs": [
    {
     "name": "stderr",
     "output_type": "stream",
     "text": [
      "100%|██████████| 40/40 [01:36<00:00,  2.42s/it]\n"
     ]
    }
   ],
   "source": [
    "features = {}\n",
    "for patient_id in tqdm(patient_ids):\n",
    "    scans, mask = load_patient_data(patient_id, data_dir)\n",
    "    scan = normalize_intensity(scan)\n",
    "\n",
    "    intensities = scans[mask > 0]\n",
    "\n",
    "    energy_val = energy(intensities)\n",
    "    mad_val = mad(intensities)\n",
    "    uniformity_val = uniformity(intensities, num_bins=bins_number)\n",
    "    features[patient_id] = [energy_val, mad_val, uniformity_val]\n",
    "\n"
   ]
  },
  {
   "cell_type": "code",
   "execution_count": null,
   "metadata": {
    "colab": {
     "base_uri": "https://localhost:8080/"
    },
    "executionInfo": {
     "elapsed": 3,
     "status": "ok",
     "timestamp": 1741538889895,
     "user": {
      "displayName": "Zihan Xu",
      "userId": "10132644876120814222"
     },
     "user_tz": 0
    },
    "id": "_izXMXBcwwBN",
    "outputId": "3875c765-906c-48b9-d833-09bea4b71dd2"
   },
   "outputs": [
    {
     "name": "stdout",
     "output_type": "stream",
     "text": [
      "   Case_ID       Energy  Mean Absolute Deviation  Uniformity\n",
      "0  case_11  965718972.0                    47.67        0.09\n",
      "1   case_1   57513797.0                   106.04        0.13\n",
      "2   case_0   27673733.0                   189.50        0.04\n",
      "3  case_10    6673689.0                   274.03        0.06\n",
      "4  case_12    2368756.0                   118.83        0.05\n"
     ]
    }
   ],
   "source": [
    "#created a dataframe for all the statistics\n",
    "df = pd.DataFrame.from_dict(features, orient='index')\n",
    "df.columns = ['Energy','Mean Absolute Deviation','Uniformity']\n",
    "df = df.round({'Energy': 2, 'Mean Absolute Deviation': 2, 'Uniformity': 2})\n",
    "df.reset_index(inplace=True)\n",
    "df.rename(columns={'index': 'Case_ID'}, inplace=True)\n",
    "print(df.head())"
   ]
  }
 ],
 "metadata": {
  "accelerator": "TPU",
  "colab": {
   "authorship_tag": "ABX9TyMV2634iYxF5gD9EYOOJQ9a",
   "gpuType": "V28",
   "mount_file_id": "1jnbdZKzLyZqjnhe9h2kdV7Aeg0H_bEWL",
   "provenance": []
  },
  "kernelspec": {
   "display_name": "Python 3",
   "name": "python3"
  },
  "language_info": {
   "name": "python"
  }
 },
 "nbformat": 4,
 "nbformat_minor": 0
}
